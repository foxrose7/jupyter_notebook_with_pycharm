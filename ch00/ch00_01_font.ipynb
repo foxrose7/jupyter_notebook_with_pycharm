{
 "cells": [
  {
   "cell_type": "markdown",
   "metadata": {},
   "source": [
    "# Pycharm 에서 Jupyter Notebook을 이용한 AI 프로그램 입문\n",
    "## 0. Pycharm 환경 설정\n",
    "### 0.1. 한글 폰트 환경 설정 하기\n",
    "\n",
    "#### 그래프 그리기에서 한글이 깨지는 예제\n",
    "\n",
    "\n",
    "- 그래프를 그릴  때 캡션이나 레이블 등에 수치 이외의 문자열을 출력하는 경우가 있다.\n",
    "Matkplotlib 에서 한글을 출력 처리할 때 글자가 깨지는 문제에 부딪힌다.\n",
    "- 다음 예의 경우 한글이 깨지게 된다."
   ]
  },
  {
   "cell_type": "code",
   "execution_count": 1,
   "metadata": {},
   "outputs": [
    {
     "data": {
      "text/plain": "<Figure size 432x288 with 1 Axes>",
      "image/png": "[encoded data removed]"
     },
     "metadata": {
      "needs_background": "light"
     },
     "output_type": "display_data"
    }
   ],
   "source": [
    "import numpy as np\n",
    "from matplotlib import pyplot as plt\n",
    "\n",
    "np.random.seed(0)\n",
    "\n",
    "x = range(5)\n",
    "y = 10 + 5 * np.random.randn(5)\n",
    "\n",
    "fig = plt.figure()\n",
    "ax = fig.add_subplot(111)\n",
    "\n",
    "ax.set_title(\"한글을 지정한 타이틀\")\n",
    "\n",
    "ax.bar(x, y)\n",
    "plt.show()\n"
   ]
  },
  {
   "cell_type": "markdown",
   "source": [
    "### 한글법 폰트 이용하기 1. fontproperties 를 이용하는 방\n",
    "\n",
    "- pyplot.font_manager.FontProperties 클래스에 이용하고 싶은\n",
    "폰트의 경로를 부여해서 인스턴트 폰트를 생성하고 폰트 사이즈를\n",
    "설정한다.\n",
    "- 한글을 사용하는 곳에서 fontproperties 에 생성한 FontProperties\n",
    "의 인스턴트를 지정한다."
   ],
   "metadata": {
    "collapsed": false
   }
  },
  {
   "cell_type": "code",
   "execution_count": 2,
   "metadata": {},
   "outputs": [
    {
     "data": {
      "text/plain": "<Figure size 432x288 with 1 Axes>",
      "image/png": "[encoded data removed]"
     },
     "metadata": {
      "needs_background": "light"
     },
     "output_type": "display_data"
    }
   ],
   "source": [
    "import os\n",
    "import numpy as np\n",
    "from matplotlib import pyplot as plt, font_manager\n",
    "\n",
    "# 폰트 캐쉬를 재국축 한다.\n",
    "font_manager._rebuild()\n",
    "\n",
    "if os.name =='nt': \n",
    "    # OS가 Windows 인 경우 win32FontDirectory()를 이용할 수 있다.\n",
    "    font_dir = font_manager.win32FontDirectory()\n",
    "else:\n",
    "    # OS가 Mac 인 경우에는 디렉터리를 지정한다.\n",
    "    # 경로에 포함되는 유저명은 환경에 맞게 변경한다. ex) foxrose\n",
    "    font_dir = '/Users/foxrose/Library/Fonts/'\n",
    "\n",
    "# 개발용 폰로 D2Coding 폰트를 사용 하였습니다.\n",
    "# D2Coding 폰트는 다음에서 다운로드 하여 설치 할 수 있습니다.\n",
    "# https://github.com/naver/d2codingfont\n",
    "\n",
    "font_path = os.path.join(font_dir, 'D2CodingBold.ttf')\n",
    "font = font_manager.FontProperties(fname=font_path, size=14)\n",
    "\n",
    "# 그래프를 작성한다. \n",
    "np.random.seed(0)\n",
    "\n",
    "x = range(5)\n",
    "y = 10 + 5 * np.random.randn(5)\n",
    "fig = plt.figure()\n",
    "ax = fig.add_subplot(111)\n",
    "\n",
    "ax.set_title(\"한국어를 지정한 타이틀\", fontproperties=font)\n",
    "ax.set_xlabel('X축', fontproperties=font)\n",
    "ax.bar(x, y)\n",
    "plt.show()\n"
   ]
  },
  {
   "cell_type": "markdown",
   "source": [
    "### 한글법 폰트 이용하기 2. 파라미터[rcParams]를 이용하는 방법\n",
    "\n",
    "- rcParams를 이용하여 font와 관련된 내용을 설정한다."
   ],
   "metadata": {
    "collapsed": false
   }
  },
  {
   "cell_type": "code",
   "execution_count": 3,
   "metadata": {
    "pycharm": {
     "name": "#%%\n"
    }
   },
   "outputs": [
    {
     "data": {
      "text/plain": "<Figure size 432x288 with 1 Axes>",
      "image/png": "[encoded data removed]"
     },
     "metadata": {
      "needs_background": "light"
     },
     "output_type": "display_data"
    }
   ],
   "source": [
    "import numpy as np\n",
    "from matplotlib import pyplot as plt, rcParams\n",
    "\n",
    "rcParams['font.sans-serif'] = 'D2Coding'\n",
    "rcParams['font.weight'] =  'regular'\n",
    "rcParams['axes.titlesize'] = 20\n",
    "rcParams['ytick.labelsize'] = 12\n",
    "rcParams['xtick.labelsize'] = 12\n",
    "\n",
    "np.random.seed(0)\n",
    "\n",
    "x = range(5)\n",
    "y = 10 + 5 * np.random.randn(5)\n",
    "fig = plt.figure()\n",
    "ax = fig.add_subplot(111)\n",
    "\n",
    "#여기에 폰트 정보를 저장할 필요가 없다. \n",
    "ax.set_title( '한국어를 지정한 타이틀')\n",
    "ax.bar(x, y)\n",
    "\n",
    "plt.show()"
   ]
  },
  {
   "cell_type": "markdown",
   "source": [
    "### 한글 폰트를 설정한 파일로 지정하기\n",
    "\n",
    "- Python의 코드로 폰트를 지정하는 것이 아니라 Maplotlib의 설정파일\n",
    "matplotlibrc을 편집해서 폰트를 설정하는 방법을 알아본다.\n",
    "- matplotlibrc은 Matplotlib의 설정파일이다. 폰트 설정 이외에 그래프\n",
    "작성에 관한 설정도 가능하다. 설정된 값은 초기 설정값으로 채용되기\n",
    "때문에 Notebook마다 설정할 필요가 없어졌다."
   ],
   "metadata": {
    "collapsed": false
   }
  },
  {
   "cell_type": "code",
   "execution_count": 4,
   "outputs": [
    {
     "data": {
      "text/plain": "<Figure size 432x288 with 1 Axes>",
      "image/png": "[encoded data removed]"
     },
     "metadata": {
      "needs_background": "light"
     },
     "output_type": "display_data"
    }
   ],
   "source": [
    "import numpy as np\n",
    "from matplotlib import pyplot as plt\n",
    "\n",
    "# 그래프를 작성한다.\n",
    "np.random.seed(0)\n",
    "\n",
    "x = range(5)\n",
    "\n",
    "y = 10 + 5 * np.random.randn(5)\n",
    "fig = plt.figure()\n",
    "ax = fig.add_subplot(111)\n",
    "\n",
    "ax.set_title('한국어를 지정한 타이틀')\n",
    "ax.bar(x, y)\n",
    "\n",
    "plt.show()"
   ],
   "metadata": {
    "collapsed": false,
    "pycharm": {
     "name": "#%%\n"
    }
   }
  }
 ],
 "metadata": {
  "kernelspec": {
   "display_name": "Python 3",
   "language": "python",
   "name": "python3"
  },
  "language_info": {
   "codemirror_mode": {
    "name": "ipython",
    "version": 3
   },
   "file_extension": ".py",
   "mimetype": "text/x-python",
   "name": "python",
   "nbconvert_exporter": "python",
   "pygments_lexer": "ipython3",
   "version": "3.6.8"
  }
 },
 "nbformat": 4,
 "nbformat_minor": 2
}