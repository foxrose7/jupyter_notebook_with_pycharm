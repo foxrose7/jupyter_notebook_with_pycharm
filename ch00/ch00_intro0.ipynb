{
 "cells": [
  {
   "cell_type": "code",
   "execution_count": 3,
   "outputs": [],
   "source": [
    "from IPython.display import Image  # 주피터 노트북에 이미지 삽입을 위한 임포"
   ],
   "metadata": {
    "collapsed": false,
    "pycharm": {
     "name": "#%%\n"
    }
   }
  },
  {
   "cell_type": "markdown",
   "source": [
    "# Pycharm 에서 Jupyter Notebook을 이용한 AI 프로그램 입문\n",
    "## 0 Pycharm 환경 설정\n",
    "### 0.0. Pycharm 환경에서 Jupyter Notebook 설정\n",
    "\n",
    "파이참에서 Jupyter Notebook을 사용하는 방법은 의외로 간단하다.\n",
    "프로젝트 인터프리터에서 jupyter를 추가 하면 된다.\n",
    "\n",
    "- Pycharm을 시작하고 새 프로젝트를 생성한다.\n",
    "![pytohn 시작화면](../images/ch00/ch00_01.png)\n",
    "Create New Project 클릭"
   ],
   "metadata": {
    "collapsed": false,
    "pycharm": {
     "name": "#%% md\n"
    }
   }
  },
  {
   "cell_type": "code",
   "execution_count": 3,
   "outputs": [],
   "source": [],
   "metadata": {
    "collapsed": false,
    "pycharm": {
     "name": "#%%\n"
    }
   }
  }
 ],
 "metadata": {
  "kernelspec": {
   "display_name": "Python 3",
   "language": "python",
   "name": "python3"
  },
  "language_info": {
   "codemirror_mode": {
    "name": "ipython",
    "version": 2
   },
   "file_extension": ".py",
   "mimetype": "text/x-python",
   "name": "python",
   "nbconvert_exporter": "python",
   "pygments_lexer": "ipython2",
   "version": "2.7.6"
  }
 },
 "nbformat": 4,
 "nbformat_minor": 0
}