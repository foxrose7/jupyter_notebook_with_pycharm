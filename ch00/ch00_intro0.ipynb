{
 "cells": [
  {
   "cell_type": "code",
   "execution_count": 1,
   "outputs": [],
   "source": [
    "from IPython.display import Image  # 주피터 노트북에 이미지 삽입을 위한 임포"
   ],
   "metadata": {
    "collapsed": false,
    "pycharm": {
     "name": "#%%\n"
    }
   }
  },
  {
   "cell_type": "markdown",
   "source": [
    "# Pycharm 에서 Jupyter Notebook을 이용한 AI 프로그램 입문\n",
    "## 0. Pycharm 환경 설정\n",
    "### 0.0. Pycharm 환경에서 Jupyter Notebook 설치\n",
    "\n",
    "파이참에서 Jupyter Notebook을 사용하는 방법은 의외로 간단하다.\n",
    "프로젝트 인터프리터에서 jupyter를 추가 하면 된다.\n",
    "\n",
    "- Pycharm을 시작하고 새 프로젝트를 생성한다.\n",
    "->Create New Project 클릭\n",
    "\n",
    "![pytohn 시작화면](../images/ch00_01.png)\n",
    "\n",
    "\n",
    "- 프로젝트 이름을 작성하고 Create 버튼을 눌러 프로젝트를 생성한다.\n",
    "![pytohn 시작화면](../images/ch00_02.png)\n",
    "\n",
    "\n",
    "\n",
    "- 메뉴의 PyCharm -> Preferencess...   [⌘,]\n",
    "\n",
    "  ✭ 윈도우인 경우 File -> Settings...   [Ctrl+Alt+S] 를\n",
    "\n",
    "  선택하여 설정 화면에 들어간다.\n",
    "![pytohn 시작화면](../images/ch00_03.png)\n",
    "![pytohn 시작화면](../images/ch00_031.png)\n",
    "\n",
    "\n",
    "\n",
    "- Project: [프로젝트명]\n",
    "    Project Interpreter를 선택하거나\n",
    "    필터에 Interpreter를 입력하여 Project Interpreter 를 선택한다.\n",
    "\n",
    "![pytohn 시작화면](../images/ch00_04.png)\n",
    "\n",
    "\n",
    "\n",
    "- 검색창에 jupyter 를 입력하고 Install Package 버튼을 누른다.\n",
    "\n",
    "![pytohn 시작화면](../images/ch00_05.png)\n",
    "\n",
    "\n",
    "\n",
    "- 같은 방법으로 keras, matplotlib를 설치한다. 각각의 라이브러리에 필요한 추가 요소는\n",
    "자동으로 설치된다. 설치 후에 추가된 라이브러리는 다음과 같다.\n",
    "\n",
    "![pytohn 시작화면](../images/ch00_06.png)\n",
    "\n",
    "\n",
    "\n",
    "- 주피터 노트북을 생성하는 방법은 간닫하다. 필요한 디렉터리를 생성후, 해당 디렉터리에\n",
    "오른쪽 마우스를 클릭하면 New 메뉴 하단에 Jupyter Notebook을 볼 수 있다.\n",
    "클릭만 하면 Jupyter Notebook을 사용할 수 있다.\n",
    "\n",
    "![pytohn 시작화면](../images/ch00_07.png)\n"
   ],
   "metadata": {
    "collapsed": false,
    "pycharm": {
     "name": "#%% md\n"
    }
   }
  },
  {
   "cell_type": "code",
   "execution_count": 1,
   "outputs": [],
   "source": [],
   "metadata": {
    "collapsed": false,
    "pycharm": {
     "name": "#%%\n"
    }
   }
  }
 ],
 "metadata": {
  "kernelspec": {
   "display_name": "Python 3",
   "language": "python",
   "name": "python3"
  },
  "language_info": {
   "codemirror_mode": {
    "name": "ipython",
    "version": 2
   },
   "file_extension": ".py",
   "mimetype": "text/x-python",
   "name": "python",
   "nbconvert_exporter": "python",
   "pygments_lexer": "ipython2",
   "version": "2.7.6"
  }
 },
 "nbformat": 4,
 "nbformat_minor": 0
}